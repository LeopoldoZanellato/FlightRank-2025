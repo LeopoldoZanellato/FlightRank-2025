{
 "cells": [
  {
   "cell_type": "code",
   "execution_count": 5,
   "id": "ae68967b-86fa-4dad-9084-d3dd49dedafc",
   "metadata": {},
   "outputs": [],
   "source": [
    "import pandas as pd\n",
    "import os\n",
    "import subprocess\n",
    "import zipfile"
   ]
  },
  {
   "cell_type": "code",
   "execution_count": 6,
   "id": "b8a04939-a325-42ba-a9bc-13fb9fea4945",
   "metadata": {},
   "outputs": [
    {
     "ename": "NameError",
     "evalue": "name 'none' is not defined",
     "output_type": "error",
     "traceback": [
      "\u001b[1;31m---------------------------------------------------------------------------\u001b[0m",
      "\u001b[1;31mNameError\u001b[0m                                 Traceback (most recent call last)",
      "Cell \u001b[1;32mIn[6], line 13\u001b[0m\n\u001b[0;32m      6\u001b[0m     subprocess\u001b[38;5;241m.\u001b[39mrun([\n\u001b[0;32m      7\u001b[0m         \u001b[38;5;124m\"\u001b[39m\u001b[38;5;124mkaggle\u001b[39m\u001b[38;5;124m\"\u001b[39m, \u001b[38;5;124m\"\u001b[39m\u001b[38;5;124mcompetitions\u001b[39m\u001b[38;5;124m\"\u001b[39m, \u001b[38;5;124m\"\u001b[39m\u001b[38;5;124mdownload\u001b[39m\u001b[38;5;124m\"\u001b[39m,\n\u001b[0;32m      8\u001b[0m         \u001b[38;5;124m\"\u001b[39m\u001b[38;5;124m-c\u001b[39m\u001b[38;5;124m\"\u001b[39m, \u001b[38;5;124m\"\u001b[39m\u001b[38;5;124maeroclub-recsys-2025\u001b[39m\u001b[38;5;124m\"\u001b[39m,\n\u001b[0;32m      9\u001b[0m         \u001b[38;5;124m\"\u001b[39m\u001b[38;5;124m-p\u001b[39m\u001b[38;5;124m\"\u001b[39m, \u001b[38;5;124m\"\u001b[39m\u001b[38;5;124mdata\u001b[39m\u001b[38;5;124m\"\u001b[39m\n\u001b[0;32m     10\u001b[0m     ])\n\u001b[0;32m     11\u001b[0m     \u001b[38;5;28;01mreturn\u001b[39;00m none\n\u001b[1;32m---> 13\u001b[0m \u001b[43mdownload_files\u001b[49m\u001b[43m(\u001b[49m\u001b[43m)\u001b[49m\n",
      "Cell \u001b[1;32mIn[6], line 11\u001b[0m, in \u001b[0;36mdownload_files\u001b[1;34m()\u001b[0m\n\u001b[0;32m      5\u001b[0m \u001b[38;5;66;03m# Baixa os arquivos da competição\u001b[39;00m\n\u001b[0;32m      6\u001b[0m subprocess\u001b[38;5;241m.\u001b[39mrun([\n\u001b[0;32m      7\u001b[0m     \u001b[38;5;124m\"\u001b[39m\u001b[38;5;124mkaggle\u001b[39m\u001b[38;5;124m\"\u001b[39m, \u001b[38;5;124m\"\u001b[39m\u001b[38;5;124mcompetitions\u001b[39m\u001b[38;5;124m\"\u001b[39m, \u001b[38;5;124m\"\u001b[39m\u001b[38;5;124mdownload\u001b[39m\u001b[38;5;124m\"\u001b[39m,\n\u001b[0;32m      8\u001b[0m     \u001b[38;5;124m\"\u001b[39m\u001b[38;5;124m-c\u001b[39m\u001b[38;5;124m\"\u001b[39m, \u001b[38;5;124m\"\u001b[39m\u001b[38;5;124maeroclub-recsys-2025\u001b[39m\u001b[38;5;124m\"\u001b[39m,\n\u001b[0;32m      9\u001b[0m     \u001b[38;5;124m\"\u001b[39m\u001b[38;5;124m-p\u001b[39m\u001b[38;5;124m\"\u001b[39m, \u001b[38;5;124m\"\u001b[39m\u001b[38;5;124mdata\u001b[39m\u001b[38;5;124m\"\u001b[39m\n\u001b[0;32m     10\u001b[0m ])\n\u001b[1;32m---> 11\u001b[0m \u001b[38;5;28;01mreturn\u001b[39;00m \u001b[43mnone\u001b[49m\n",
      "\u001b[1;31mNameError\u001b[0m: name 'none' is not defined"
     ]
    }
   ],
   "source": [
    "def download_files():\n",
    "    # Define caminhos\n",
    "    zip_path = \"data/aeroclub-recsys-2025.zip\"\n",
    "    extract_path = \"data/aeroclub\"\n",
    "    \n",
    "    # Cria a pasta base se necessário\n",
    "    os.makedirs(\"data\", exist_ok=True)\n",
    "\n",
    "    # Verifica se o arquivo .zip já foi baixado\n",
    "    if not os.path.exists(zip_path):\n",
    "        print(\"🔽 Baixando arquivos da competição...\")\n",
    "        subprocess.run([\n",
    "            \"kaggle\", \"competitions\", \"download\",\n",
    "            \"-c\", \"aeroclub-recsys-2025\",\n",
    "            \"-p\", \"data\"\n",
    "        ])\n",
    "    else:\n",
    "        print(\"✅ Arquivo ZIP já existe. Pulando download.\")\n",
    "\n",
    "    # Verifica se os arquivos já foram extraídos\n",
    "    if not os.path.exists(extract_path) or not os.listdir(extract_path):\n",
    "        print(\"📦 Extraindo arquivos...\")\n",
    "        with zipfile.ZipFile(zip_path, 'r') as zip_ref:\n",
    "            zip_ref.extractall(extract_path)\n",
    "    else:\n",
    "        print(\"✅ Arquivos já extraídos. Pulando extração.\")\n",
    "\n",
    "# Executa\n",
    "download_files()"
   ]
  },
  {
   "cell_type": "code",
   "execution_count": null,
   "id": "5afeeeff-2603-4fa1-abaf-76abd2179359",
   "metadata": {},
   "outputs": [],
   "source": []
  }
 ],
 "metadata": {
  "kernelspec": {
   "display_name": "Python (FlightRec)",
   "language": "python",
   "name": "flightrec-env"
  },
  "language_info": {
   "codemirror_mode": {
    "name": "ipython",
    "version": 3
   },
   "file_extension": ".py",
   "mimetype": "text/x-python",
   "name": "python",
   "nbconvert_exporter": "python",
   "pygments_lexer": "ipython3",
   "version": "3.10.16"
  }
 },
 "nbformat": 4,
 "nbformat_minor": 5
}
