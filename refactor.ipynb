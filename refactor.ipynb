{
 "cells": [
  {
   "cell_type": "markdown",
   "id": "a31f8be3-a904-45fc-9c27-c665d50bca51",
   "metadata": {},
   "source": [
    "# FlightRank 2025 - Baseline Model\n",
    "Previsão de seleção de voos com LightGBM (Lambdarank)\n",
    "\n",
    "---\n",
    "\n",
    "## 1. Imports e Configuração Inicial\n",
    "\n",
    "Importação de bibliotecas e definição de opções globais."
   ]
  },
  {
   "cell_type": "code",
   "execution_count": 1,
   "id": "5e818c6b-6436-48ff-a5b3-de7839371ce4",
   "metadata": {},
   "outputs": [],
   "source": [
    "import pandas as pd\n",
    "import os\n",
    "import subprocess\n",
    "import zipfile\n",
    "import matplotlib.pyplot as plt\n",
    "import lightgbm as lgb\n",
    "import numpy as np\n",
    "import lightgbm as lgb\n",
    "\n",
    "# --- Split com GroupShuffleSplit\n",
    "from sklearn.model_selection import GroupShuffleSplit\n",
    "from sklearn.model_selection import GroupShuffleSplit\n",
    "from itertools import chain\n",
    "from sklearn.model_selection import GroupKFold\n",
    "# --- LightGBM Dataset\n",
    "import lightgbm as lgb"
   ]
  },
  {
   "cell_type": "code",
   "execution_count": 2,
   "id": "02ac1ef6-094e-4b16-bbe1-1b97481f37ed",
   "metadata": {},
   "outputs": [],
   "source": [
    "# resetando as configurações \n",
    "pd.reset_option('display.max_columns')\n",
    "\n",
    "# setando as configurações de coluna maxima\n",
    "# importante pois tem muitas colunas\n",
    "pd.set_option('display.max_columns', None)"
   ]
  },
  {
   "cell_type": "markdown",
   "id": "7bc862a0-a756-4ead-b8d1-83c57855a0fc",
   "metadata": {},
   "source": [
    "## 2. Download e extração dos dados\n",
    "Verifica se os arquivos da competição já existem localmente, caso contrário, baixa e extrai os dados.\n"
   ]
  },
  {
   "cell_type": "code",
   "execution_count": 3,
   "id": "a33d7fd1-d2de-4d9e-b223-12c08dea8ac2",
   "metadata": {},
   "outputs": [],
   "source": [
    "def download_files():\n",
    "    # utilizando a API do kaggle para download\n",
    "    # adicionado a /data no git ignore\n",
    "    # Define caminhos\n",
    "    zip_path = \"data/aeroclub-recsys-2025.zip\"\n",
    "    extract_path = \"data/aeroclub\"\n",
    "    \n",
    "    # Cria a pasta base se necessário\n",
    "    os.makedirs(\"data\", exist_ok=True)\n",
    "\n",
    "    # Verifica se o arquivo .zip já foi baixado\n",
    "    if not os.path.exists(zip_path):\n",
    "        print(\"🔽 Baixando arquivos da competição...\")\n",
    "        subprocess.run([\n",
    "            \"kaggle\", \"competitions\", \"download\",\n",
    "            \"-c\", \"aeroclub-recsys-2025\",\n",
    "            \"-p\", \"data\"\n",
    "        ])\n",
    "    else:\n",
    "        print(\"✅ Arquivo ZIP já existe. Pulando download.\")\n",
    "\n",
    "    # Verifica se os arquivos já foram extraídos\n",
    "    if not os.path.exists(extract_path) or not os.listdir(extract_path):\n",
    "        print(\"📦 Extraindo arquivos...\")\n",
    "        with zipfile.ZipFile(zip_path, 'r') as zip_ref:\n",
    "            zip_ref.extractall(extract_path)\n",
    "    else:\n",
    "        print(\"✅ Arquivos já extraídos. Pulando extração.\")"
   ]
  },
  {
   "cell_type": "code",
   "execution_count": 4,
   "id": "af2958ae-c6ea-47fc-884c-d67edd9483eb",
   "metadata": {},
   "outputs": [
    {
     "name": "stdout",
     "output_type": "stream",
     "text": [
      "✅ Arquivo ZIP já existe. Pulando download.\n",
      "✅ Arquivos já extraídos. Pulando extração.\n"
     ]
    }
   ],
   "source": [
    "# Executa\n",
    "download_files()"
   ]
  },
  {
   "cell_type": "markdown",
   "id": "cc1bcffb-081b-42e2-87f7-6393d60b614b",
   "metadata": {},
   "source": [
    "## 3. Leitura dos dados\n",
    "Lê o arquivo `train.parquet` com o Pandas.\n"
   ]
  },
  {
   "cell_type": "code",
   "execution_count": 5,
   "id": "076ee0c7-6aa1-404d-9285-b3dd597542cd",
   "metadata": {},
   "outputs": [],
   "source": [
    "train = pd.read_parquet(\"data/aeroclub/train.parquet\")"
   ]
  },
  {
   "cell_type": "code",
   "execution_count": 6,
   "id": "de897686-07fa-4cbc-887b-d680cbbfa9d4",
   "metadata": {},
   "outputs": [],
   "source": [
    "df_train_raw = train.copy()"
   ]
  },
  {
   "cell_type": "markdown",
   "id": "3cfd46f3-15fa-4932-93e8-135b0e52e7d6",
   "metadata": {},
   "source": [
    "## 4. Seleção de colunas relevantes\n",
    "Seleciona apenas as colunas que serão usadas no baseline.\n"
   ]
  },
  {
   "cell_type": "code",
   "execution_count": 135,
   "id": "63def090-b4c1-4a4e-964e-7f6cfdbfea7c",
   "metadata": {},
   "outputs": [
    {
     "name": "stdout",
     "output_type": "stream",
     "text": [
      "rows to read 18145372\n"
     ]
    }
   ],
   "source": [
    "# Define as colunas que você quer manter\n",
    "columns_to_keep = [\n",
    "    # Identifiers\n",
    "    'Id',  # num\n",
    "    'ranker_id', \n",
    "    'profileId', \n",
    "    'companyID',\n",
    "    \n",
    "    # User info\n",
    "    'sex', 'nationality', 'frequentFlyer', 'isVip', 'bySelf', 'isAccess3D',\n",
    "\n",
    "    # Company info\n",
    "    'corporateTariffCode',\n",
    "\n",
    "    # Search & route\n",
    "    'searchRoute', 'requestDate',\n",
    "\n",
    "    # Pricing\n",
    "    'totalPrice', 'taxes',\n",
    "\n",
    "    # Flight timing\n",
    "    'legs0_departureAt', 'legs0_arrivalAt', 'legs0_duration',\n",
    "    'legs1_departureAt', 'legs1_arrivalAt', 'legs1_duration',\n",
    "\n",
    "    # Segment-level info (só do segmento 0 da ida para simplificar no baseline)\n",
    "    'legs0_segments0_departureFrom_airport_iata',\n",
    "    'legs0_segments0_arrivalTo_airport_iata',\n",
    "    'legs0_segments0_arrivalTo_airport_city_iata',\n",
    "    'legs0_segments0_marketingCarrier_code',\n",
    "    'legs0_segments0_operatingCarrier_code',\n",
    "    'legs0_segments0_aircraft_code',\n",
    "    'legs0_segments0_flightNumber',\n",
    "    'legs0_segments0_duration',\n",
    "    'legs0_segments0_baggageAllowance_quantity',\n",
    "    'legs0_segments0_baggageAllowance_weightMeasurementType',\n",
    "    'legs0_segments0_cabinClass',\n",
    "    'legs0_segments0_seatsAvailable',\n",
    "\n",
    "    # Cancellation & exchange rules\n",
    "    'miniRules0_monetaryAmount', 'miniRules0_percentage', 'miniRules0_statusInfos',\n",
    "    'miniRules1_monetaryAmount', 'miniRules1_percentage', 'miniRules1_statusInfos',\n",
    "\n",
    "    # Pricing policy\n",
    "    'pricingInfo_isAccessTP', 'pricingInfo_passengerCount',\n",
    "\n",
    "    # Target\n",
    "    'selected'\n",
    "]\n",
    "\n",
    "# Filtra os dados para o baseline\n",
    "rows_to_copy = 1_000_000\n",
    "rows_to_copy = len(df_train_raw)\n",
    "print(f\"rows to read: {rows_to_copy}\")\n",
    "df_train = df_train_raw[columns_to_keep].iloc[:rows_to_copy].copy()"
   ]
  },
  {
   "cell_type": "markdown",
   "id": "68857a98-3798-4c23-ae77-ae195801b902",
   "metadata": {},
   "source": [
    "### 5. Engenharia de features (corrige dtypes)\n",
    "Corrige os dtypes"
   ]
  },
  {
   "cell_type": "code",
   "execution_count": 136,
   "id": "485ce5ef-673e-4fdd-a7ee-075056c752c9",
   "metadata": {},
   "outputs": [
    {
     "data": {
      "text/plain": [
       "Id                                                                 int64\n",
       "ranker_id                                                         object\n",
       "profileId                                                          int64\n",
       "companyID                                                          int64\n",
       "sex                                                                 bool\n",
       "nationality                                                       object\n",
       "frequentFlyer                                                     object\n",
       "isVip                                                               bool\n",
       "bySelf                                                              bool\n",
       "isAccess3D                                                          bool\n",
       "corporateTariffCode                                                Int64\n",
       "searchRoute                                                       object\n",
       "requestDate                                               datetime64[ns]\n",
       "totalPrice                                                       float64\n",
       "taxes                                                            float64\n",
       "legs0_departureAt                                                 object\n",
       "legs0_arrivalAt                                                   object\n",
       "legs0_duration                                                    object\n",
       "legs1_departureAt                                                 object\n",
       "legs1_arrivalAt                                                   object\n",
       "legs1_duration                                                    object\n",
       "legs0_segments0_departureFrom_airport_iata                        object\n",
       "legs0_segments0_arrivalTo_airport_iata                            object\n",
       "legs0_segments0_arrivalTo_airport_city_iata                       object\n",
       "legs0_segments0_marketingCarrier_code                             object\n",
       "legs0_segments0_operatingCarrier_code                             object\n",
       "legs0_segments0_aircraft_code                                     object\n",
       "legs0_segments0_flightNumber                                      object\n",
       "legs0_segments0_duration                                          object\n",
       "legs0_segments0_baggageAllowance_quantity                        float64\n",
       "legs0_segments0_baggageAllowance_weightMeasurementType           float64\n",
       "legs0_segments0_cabinClass                                       float64\n",
       "legs0_segments0_seatsAvailable                                   float64\n",
       "miniRules0_monetaryAmount                                        float64\n",
       "miniRules0_percentage                                            float64\n",
       "miniRules0_statusInfos                                           float64\n",
       "miniRules1_monetaryAmount                                        float64\n",
       "miniRules1_percentage                                            float64\n",
       "miniRules1_statusInfos                                           float64\n",
       "pricingInfo_isAccessTP                                           float64\n",
       "pricingInfo_passengerCount                                         int64\n",
       "selected                                                           int64\n",
       "dtype: object"
      ]
     },
     "execution_count": 136,
     "metadata": {},
     "output_type": "execute_result"
    }
   ],
   "source": [
    "def fix_column_types(df):\n",
    "    df_fixed = df.copy()\n",
    "    for col in df.columns:\n",
    "        if isinstance(df[col].dtype, pd.CategoricalDtype):\n",
    "            # Tenta converter para tipo numérico\n",
    "            try:\n",
    "                df_fixed[col] = pd.to_numeric(df[col])\n",
    "            except:\n",
    "                # Se não for numérico, tenta bool\n",
    "                unique_vals = df[col].dropna().unique()\n",
    "                if set(unique_vals) <= {True, False}:\n",
    "                    df_fixed[col] = df[col].astype(bool)\n",
    "                else:\n",
    "                    df_fixed[col] = df[col].astype(str)\n",
    "    return df_fixed\n",
    "df_train = fix_column_types(df_train)\n",
    "\n",
    "# Ajusta a nacionalidade (está em Int)\n",
    "df_train[\"nationality\"] = df_train[\"nationality\"].astype(\"str\")\n",
    "\n",
    "\n",
    "df_train.dtypes  # Checar resultado"
   ]
  },
  {
   "cell_type": "markdown",
   "id": "06fd9eb3-0645-483c-95f4-52c95ba551f3",
   "metadata": {},
   "source": [
    "## 5. Engenharia de features\n",
    "Divisão da coluna FrenquentFlyer\n"
   ]
  },
  {
   "cell_type": "code",
   "execution_count": 137,
   "id": "8921672f-f88c-4855-86fe-c1a1449e0609",
   "metadata": {},
   "outputs": [
    {
     "name": "stdout",
     "output_type": "stream",
     "text": [
      "Total de companhias únicas: 71\n"
     ]
    }
   ],
   "source": [
    "def count_frequent_flyers(value):\n",
    "    if pd.isna(value):\n",
    "        return 0\n",
    "    return len(str(value).split('/'))\n",
    "\n",
    "df_train['frequentFlyer_count'] = df_train['frequentFlyer'].apply(count_frequent_flyers)\n",
    "\n",
    "# Cria flag binária para frequent flyer\n",
    "df_train['hasFrequentFlyer'] = df_train['frequentFlyer'].notnull().astype(int)\n",
    "\n",
    "# Substituir valores NaN por string vazia\n",
    "ff_series = df_train['frequentFlyer'].fillna('').astype(str)\n",
    "\n",
    "# Dividir por '/' para obter lista\n",
    "ff_lists = ff_series.str.split('/')\n",
    "\n",
    "all_programs = set(chain.from_iterable(ff_lists))\n",
    "print(f\"Total de companhias únicas: {len(all_programs)}\")\n"
   ]
  },
  {
   "cell_type": "code",
   "execution_count": null,
   "id": "18ac72c0-1e38-44c1-9dd3-e624c643242d",
   "metadata": {},
   "outputs": [],
   "source": [
    "for program in all_programs:\n",
    "    if program == '':\n",
    "        continue  # pula string vazia\n",
    "    df_train[f'ff_{program}'] = ff_lists.apply(lambda x: int(program in x))\n",
    "\n",
    "for col in df_train.columns:\n",
    "    if col.startswith(\"ff_\"):\n",
    "        df_train[col] = df_train[col].astype(pd.BooleanDtype())"
   ]
  },
  {
   "cell_type": "code",
   "execution_count": null,
   "id": "0991c695-fa09-417f-8807-8291228398ef",
   "metadata": {},
   "outputs": [],
   "source": [
    "df_train['searchRoute'].head()"
   ]
  },
  {
   "cell_type": "code",
   "execution_count": null,
   "id": "b2243a3b-c6c9-4cdf-bf62-8e44a9946097",
   "metadata": {},
   "outputs": [],
   "source": [
    "df_train.drop('frequentFlyer', axis=1, inplace=True)"
   ]
  },
  {
   "cell_type": "markdown",
   "id": "6c0d499e-6dfb-47f5-a6ba-ca75407f577d",
   "metadata": {},
   "source": [
    "## 5. Engenharia de features\n",
    "Timedelta Columns\n"
   ]
  },
  {
   "cell_type": "code",
   "execution_count": null,
   "id": "873e1d7d-e058-4e1b-88e9-d02972ddf6e7",
   "metadata": {},
   "outputs": [],
   "source": [
    "df_train['legs0_departureAt']"
   ]
  },
  {
   "cell_type": "code",
   "execution_count": null,
   "id": "cf13fb0a-6db7-475e-ab4b-8bf5bd8d9d25",
   "metadata": {},
   "outputs": [],
   "source": [
    "def process_datetime_and_duration(df):\n",
    "    df_processed = df.copy()\n",
    "\n",
    "    # Datas para datetime\n",
    "    for col in cols_datetime:\n",
    "        df_processed[col] = pd.to_datetime(df_processed[col], errors='coerce')\n",
    "\n",
    "    # Features de hora e dia da semana\n",
    "    df_processed['legs0_dep_hour'] = df_processed['legs0_departureAt'].dt.hour\n",
    "    df_processed['legs0_dep_dayofweek'] = df_processed['legs0_departureAt'].dt.dayofweek\n",
    "    df_processed['legs1_dep_hour'] = df_processed['legs1_departureAt'].dt.hour\n",
    "    df_processed['legs1_dep_dayofweek'] = df_processed['legs1_departureAt'].dt.dayofweek\n",
    "\n",
    "    # Dias entre ida e volta (duração da viagem)\n",
    "    df_processed['trip_days'] = (df_processed['legs1_departureAt'] - df_processed['legs0_departureAt']).dt.days\n",
    "\n",
    "    # Dias de antecedência (request → ida)\n",
    "    df_processed['booking_to_trip_days'] = (df_processed['legs0_departureAt'] - df_processed['requestDate']).dt.days\n",
    "\n",
    "    # Final de semana (ida/volta)\n",
    "    df_processed['ida_fds'] = df_processed['legs0_dep_dayofweek'].isin([5, 6]).astype(int)\n",
    "    df_processed['volta_fds'] = df_processed['legs1_dep_dayofweek'].isin([5, 6]).astype(int)\n",
    "\n",
    "    # Horário comercial (7h às 19h)\n",
    "    def is_business_hour(hour):\n",
    "        return int(7 <= hour <= 19)\n",
    "\n",
    "    df_processed['ida_comercial'] = df_processed['legs0_dep_hour'].apply(is_business_hour)\n",
    "    df_processed['volta_comercial'] = df_processed['legs1_dep_hour'].apply(is_business_hour)\n",
    "\n",
    "    # ⏱️ Converter colunas de duração para minutos\n",
    "    def clean_and_convert_duration(col):\n",
    "        return (\n",
    "            col\n",
    "            .fillna(\"00:00:00\")\n",
    "            .astype(str)\n",
    "            .str.strip()\n",
    "            .str.replace(\"nan\", \"00:00:00\")\n",
    "            .pipe(pd.to_timedelta, errors='coerce')\n",
    "            .dt.total_seconds() / 60  # minutos\n",
    "        )\n",
    "\n",
    "    cols_duration = ['legs0_duration', 'legs1_duration']\n",
    "    for col in cols_duration:\n",
    "        df_processed[col] = clean_and_convert_duration(df_processed[col])\n",
    "\n",
    "    return df_processed\n",
    "\n"
   ]
  },
  {
   "cell_type": "code",
   "execution_count": null,
   "id": "d1fbbbfc-0d31-4da9-89d9-944415d9a23b",
   "metadata": {},
   "outputs": [],
   "source": [
    "df_train['legs0_duration_minutes'] = (\n",
    "    pd.to_timedelta(\n",
    "        df_train['legs0_segments0_duration'].fillna(\"00:00:00\").astype(str).str.strip(),\n",
    "        errors='coerce'\n",
    "    ).dt.total_seconds() / 60  # em minutos\n",
    ")\n",
    "\n",
    "df_train.drop('legs0_segments0_duration', axis=1, inplace=True)"
   ]
  },
  {
   "cell_type": "code",
   "execution_count": null,
   "id": "e90d1fc0-7cce-431c-a4d3-c5b09ee9a265",
   "metadata": {},
   "outputs": [],
   "source": [
    "df_train['legs0_duration_minutes']"
   ]
  },
  {
   "cell_type": "code",
   "execution_count": null,
   "id": "c7b38f93-10e2-4af6-a911-957e0c470153",
   "metadata": {},
   "outputs": [],
   "source": [
    "# ✅ Applicação\n",
    "df_train = process_datetime_and_duration(df_train)"
   ]
  },
  {
   "cell_type": "code",
   "execution_count": null,
   "id": "e94360c0-98d0-4875-a2b3-e1a1d46cb5a0",
   "metadata": {},
   "outputs": [],
   "source": [
    "df_train.drop(columns=cols_datetime, inplace=True)"
   ]
  },
  {
   "cell_type": "markdown",
   "id": "02f14d6b-048f-4df9-8da8-5011eb7b1abd",
   "metadata": {},
   "source": [
    "## 5. Engenharia de features\n",
    "booleans\n"
   ]
  },
  {
   "cell_type": "code",
   "execution_count": null,
   "id": "258e0c48-58a1-4ace-898d-96cec2d4adc0",
   "metadata": {},
   "outputs": [],
   "source": [
    "bool_cols = [\n",
    "    'pricingInfo_isAccessTP',\n",
    "    'hasFrequentFlyer',\n",
    "]\n",
    "\n",
    "for col in bool_cols:\n",
    "    df_train[col] = df_train[col].astype('boolean')"
   ]
  },
  {
   "cell_type": "code",
   "execution_count": null,
   "id": "68b92c1f-48ee-45c6-b260-557c6e54ee0d",
   "metadata": {},
   "outputs": [],
   "source": [
    "df_train"
   ]
  },
  {
   "cell_type": "markdown",
   "id": "404c1d77-7a61-4caf-827b-ba82772b63b8",
   "metadata": {},
   "source": [
    "SEACH ROUTE"
   ]
  },
  {
   "cell_type": "code",
   "execution_count": null,
   "id": "7c9ef241-fb6b-439d-b6a1-0e55c58e2d96",
   "metadata": {},
   "outputs": [],
   "source": [
    "df_train['searchRoute'] = df_train['searchRoute'].astype(str)\n",
    "df_train['searchRoute_count'] = df_train['searchRoute'].apply(lambda x: x.split(\"/\"))\n",
    "df_train['searchRoute_count'] = df_train['searchRoute_count'].apply(lambda x: len(x))\n",
    "print(f\" min {min(df_train['searchRoute_count'])}\")\n",
    "print(f\" max {max(df_train['searchRoute_count'])}\")\n",
    "df_train.drop('searchRoute_count', axis=1, inplace=True)"
   ]
  },
  {
   "cell_type": "code",
   "execution_count": null,
   "id": "3118a7d4-2852-4735-a93d-522c3c72dcbb",
   "metadata": {},
   "outputs": [],
   "source": [
    "# Garante que searchRoute está como string\n",
    "df_train['searchRoute'] = df_train['searchRoute'].astype(str)\n",
    "\n",
    "# Separa ida e volta\n",
    "df_train[['route_ida', 'route_volta']] = df_train['searchRoute'].str.split('/', expand=True)\n",
    "\n",
    "# Extrai origem e destino da ida\n",
    "df_train['ida_from'] = df_train['route_ida'].str[:3]\n",
    "df_train['ida_to'] = df_train['route_ida'].str[3:]\n",
    "\n",
    "# Extrai origem e destino da volta (se existir)\n",
    "df_train['volta_from'] = df_train['route_volta'].str[:3]\n",
    "df_train['volta_to'] = df_train['route_volta'].str[3:]\n",
    "\n",
    "df_train.drop('searchRoute', axis=1, inplace=True)"
   ]
  },
  {
   "cell_type": "code",
   "execution_count": null,
   "id": "586385f5-ca57-4b43-8511-b90778cd7c36",
   "metadata": {},
   "outputs": [],
   "source": [
    "# Ver todos os dtypes\n",
    "with pd.option_context('display.max_rows', None):\n",
    "    display(df_train.dtypes)"
   ]
  },
  {
   "cell_type": "code",
   "execution_count": null,
   "id": "f0e8a0d3-05e2-484d-a5b0-4628207cfe56",
   "metadata": {},
   "outputs": [],
   "source": [
    "# --- Target e grupo\n",
    "target_col = \"selected\"\n",
    "group_col = \"ranker_id\"\n",
    "\n",
    "# --- Categóricas para LightGBM\n",
    "categorical_cols = [\n",
    "    'nationality',\n",
    "    'legs0_segments0_departureFrom_airport_iata',\n",
    "    'legs0_segments0_arrivalTo_airport_iata',\n",
    "    'legs0_segments0_arrivalTo_airport_city_iata',\n",
    "    'legs0_segments0_marketingCarrier_code',\n",
    "    'legs0_segments0_operatingCarrier_code',\n",
    "    'legs0_segments0_aircraft_code',\n",
    "    'corporateTariffCode',\n",
    "    \n",
    "    # novas features categóricas da searchRoute\n",
    "    'route_ida',\n",
    "    'route_volta',\n",
    "    'ida_from',\n",
    "    'ida_to',\n",
    "    'volta_from',\n",
    "    'volta_to'\n",
    "]\n",
    "\n",
    "# --- Booleanas e numéricas\n",
    "boolean_cols = [\n",
    "    'sex', 'isVip', 'bySelf', 'isAccess3D',\n",
    "    'pricingInfo_isAccessTP', 'hasFrequentFlyer',\n",
    "    'ida_fds', 'volta_fds',\n",
    "    'ida_comercial', 'volta_comercial'\n",
    "] + [col for col in df_train.columns if col.startswith(\"ff_\")]\n",
    "\n",
    "numeric_cols = [\n",
    "    'totalPrice', 'taxes',\n",
    "    'legs0_duration', 'legs1_duration',\n",
    "    #'legs0_segments0_duration',\n",
    "    'legs0_segments0_baggageAllowance_quantity',\n",
    "    'legs0_segments0_baggageAllowance_weightMeasurementType',\n",
    "    'legs0_segments0_cabinClass',\n",
    "    'legs0_segments0_seatsAvailable',\n",
    "    'miniRules0_monetaryAmount', 'miniRules0_percentage',\n",
    "    'miniRules1_monetaryAmount', 'miniRules1_percentage',\n",
    "    'booking_to_trip_days', 'trip_days',\n",
    "    'legs0_dep_hour', 'legs0_dep_dayofweek',\n",
    "    'legs1_dep_hour', 'legs1_dep_dayofweek',\n",
    "    'frequentFlyer_count', 'legs0_duration_minutes'\n",
    "]\n",
    "features = numeric_cols + categorical_cols + boolean_cols\n",
    "\n",
    "# --- Converte categóricas para category\n",
    "for col in categorical_cols:\n",
    "    df_train[col] = df_train[col].astype(\"category\")\n",
    "\n",
    "\n",
    "\n",
    "gss = GroupShuffleSplit(n_splits=1, test_size=0.2, random_state=42)\n",
    "train_idx, val_idx = next(gss.split(df_train, groups=df_train[\"ranker_id\"]))\n",
    "\n",
    "df_train_split = df_train.iloc[train_idx].copy()\n",
    "df_val = df_train.iloc[val_idx].copy()  # << IMPORTANTE\n",
    "\n",
    "X_train = df_train_split[features]\n",
    "y_train = df_train_split[target_col]\n",
    "groups_train = df_train_split[group_col].value_counts().sort_index().values\n",
    "\n",
    "X_val = df_val[features]\n",
    "y_val = df_val[target_col]\n",
    "groups_val = df_val[group_col].value_counts().sort_index().values\n",
    "\n",
    "train_dataset = lgb.Dataset(X_train, y_train, group=groups_train, categorical_feature=categorical_cols)\n",
    "val_dataset = lgb.Dataset(X_val, y_val, group=groups_val, categorical_feature=categorical_cols, reference=train_dataset)\n",
    "\n",
    "# --- Parâmetros\n",
    "params = {\n",
    "    \"objective\": \"lambdarank\",\n",
    "    \"metric\": \"ndcg\",\n",
    "    \"ndcg_eval_at\": [3],\n",
    "    \"learning_rate\": 0.05,\n",
    "    \"num_leaves\": 31,\n",
    "    \"min_data_in_leaf\": 20,\n",
    "    \"verbosity\": -1,\n",
    "}\n",
    "\n",
    "# --- Treinamento com early stopping\n",
    "model = lgb.train(\n",
    "    params,\n",
    "    train_dataset,\n",
    "    valid_sets=[train_dataset, val_dataset],\n",
    "    valid_names=[\"train\", \"valid\"],\n",
    "    num_boost_round=1000,\n",
    "    callbacks=[lgb.early_stopping(stopping_rounds=50)],\n",
    "    #verbose_eval=50\n",
    ")\n",
    "\n",
    "# --- Predição\n",
    "y_pred = model.predict(X_val)\n",
    "\n",
    "# --- Avaliação Top-1\n",
    "df_pred = df_val.copy()\n",
    "df_pred['y_true'] = y_val\n",
    "df_pred['y_pred'] = y_pred\n",
    "\n",
    "df_pred_sorted = df_pred.sort_values(['ranker_id', 'y_pred'], ascending=[True, False])\n",
    "df_top1 = df_pred_sorted.groupby('ranker_id').head(1)\n",
    "\n",
    "acertos = df_top1['y_true'].sum()\n",
    "total = df_top1.shape[0]\n",
    "\n",
    "print(f\"Voos escolhidos corretamente (top1): {acertos} de {total} sessões\")\n",
    "print(f\"Acurácia top1: {acertos / total:.4f}\")\n"
   ]
  },
  {
   "cell_type": "code",
   "execution_count": null,
   "id": "775a3e1d-0ef4-4b2d-ad67-128a41516edc",
   "metadata": {},
   "outputs": [],
   "source": []
  },
  {
   "cell_type": "code",
   "execution_count": null,
   "id": "f81fdf4a-6456-4043-a357-caa6e8c3a4ec",
   "metadata": {},
   "outputs": [],
   "source": []
  },
  {
   "cell_type": "code",
   "execution_count": null,
   "id": "872670e0-ef39-4aad-8be6-d9989242ced0",
   "metadata": {},
   "outputs": [],
   "source": []
  },
  {
   "cell_type": "code",
   "execution_count": null,
   "id": "42276c5b-db73-42bd-8b6e-440e29cb850e",
   "metadata": {},
   "outputs": [],
   "source": []
  },
  {
   "cell_type": "code",
   "execution_count": null,
   "id": "9a2e46f9-791b-42e3-8427-d516c7d85564",
   "metadata": {},
   "outputs": [],
   "source": [
    "-"
   ]
  }
 ],
 "metadata": {
  "kernelspec": {
   "display_name": "Python (FlightRec)",
   "language": "python",
   "name": "flightrec-env"
  },
  "language_info": {
   "codemirror_mode": {
    "name": "ipython",
    "version": 3
   },
   "file_extension": ".py",
   "mimetype": "text/x-python",
   "name": "python",
   "nbconvert_exporter": "python",
   "pygments_lexer": "ipython3",
   "version": "3.10.16"
  }
 },
 "nbformat": 4,
 "nbformat_minor": 5
}
